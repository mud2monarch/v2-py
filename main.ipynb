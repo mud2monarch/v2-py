{
 "cells": [
  {
   "cell_type": "code",
   "execution_count": 2,
   "metadata": {},
   "outputs": [],
   "source": [
    "from datetime import datetime"
   ]
  },
  {
   "cell_type": "code",
   "execution_count": 3,
   "metadata": {},
   "outputs": [],
   "source": [
    "NO_UPDATE_TX = \"No Update Transaction Provided\"\n",
    "NO_UPDATE_TIME = datetime.min"
   ]
  },
  {
   "cell_type": "code",
   "execution_count": null,
   "metadata": {},
   "outputs": [
    {
     "ename": "SyntaxError",
     "evalue": "expected ':' (17467004.py, line 21)",
     "output_type": "error",
     "traceback": [
      "\u001b[0;36m  Cell \u001b[0;32mIn[4], line 21\u001b[0;36m\u001b[0m\n\u001b[0;31m    )\u001b[0m\n\u001b[0m     ^\u001b[0m\n\u001b[0;31mSyntaxError\u001b[0m\u001b[0;31m:\u001b[0m expected ':'\n"
     ]
    }
   ],
   "source": [
    "class V2State:\n",
    "    \"\"\" Immutable representation of an individual v2 pool state\n",
    "    \n",
    "    Represents the complete state of a Uniswap V2 pool at a specific point in time,\n",
    "    including token reserves and last update information. Objects of this class\n",
    "    are immutable to ensure state consistency.\n",
    "\n",
    "    Attributes:\n",
    "        token0 (str): Address of the first token in the pair. all lowercase.\n",
    "        token1 (str): Address of the second token in the pair. all lowercase.\n",
    "        pool_address (str): Address of the V2 pool contract. all lowercase.\n",
    "        reserve0 (int): Current reserve of token0\n",
    "        reserve1 (int): Current reserve of token1\n",
    "        k_last (int): Constant product of the reserves\n",
    "        update_tx (str): Transaction hash where this state was observed. Defaults NO_UPDATE_TX.\n",
    "        update_time (datetime): Timestamp of `update_tx`. Defaults to 1/1/1970.\n",
    "    \"\"\"\n",
    "    token0: str\n",
    "    token1: str\n",
    "    pool_address: str\n",
    "    reserve0: int\n",
    "    reserve1: int\n",
    "    k_last: int\n",
    "    update_tx: str\n",
    "    update_time: datetime\n",
    "\n",
    "    def __new__(cls,\n",
    "            token0: str,\n",
    "            token1: str,\n",
    "            pool_address: str,\n",
    "            reserve0: int,\n",
    "            reserve1: int,\n",
    "            k_last: int,\n",
    "            update_tx: str = NO_UPDATE_TX,\n",
    "            update_time: datetime = NO_UPDATE_TIME) -> 'V2State':\n",
    "        \n",
    "        \"\"\"Create a new V2State instance.\n",
    "\n",
    "        Args: See class documentation for parameter details.\n",
    "        \"\"\"\n",
    "        \n",
    "        obj = super().__new__(cls)\n",
    "        obj.token0 = token0\n",
    "        obj.token1 = token1\n",
    "        obj.pool_address = pool_address\n",
    "        obj.reserve0 = reserve0\n",
    "        obj.reserve1 = reserve1\n",
    "        obj.k_last = k_last\n",
    "        obj.update_tx = update_tx\n",
    "        obj.update_time = update_time\n",
    "\n",
    "        return obj\n",
    "\n",
    "# ##### CurrentV2State class #######################################################\n",
    "\n",
    "# # CurrentV2State is an object representing the most \"recent\" v2 pool (i.e., with respect to the user of the API)\n",
    "# # CurrentV2State are mutable.\n",
    "\n",
    "# class CurrentV2State\n",
    "\n",
    "# ##### V2Pool class #######################################################\n",
    "\n",
    "# # V2Pool is an object that stores a history of many V2State\n",
    "\n",
    "# class V2Pool\n"
   ]
  },
  {
   "cell_type": "code",
   "execution_count": null,
   "metadata": {},
   "outputs": [],
   "source": []
  },
  {
   "cell_type": "code",
   "execution_count": null,
   "metadata": {},
   "outputs": [],
   "source": []
  }
 ],
 "metadata": {
  "kernelspec": {
   "display_name": ".venv",
   "language": "python",
   "name": "python3"
  },
  "language_info": {
   "codemirror_mode": {
    "name": "ipython",
    "version": 3
   },
   "file_extension": ".py",
   "mimetype": "text/x-python",
   "name": "python",
   "nbconvert_exporter": "python",
   "pygments_lexer": "ipython3",
   "version": "3.11.0"
  }
 },
 "nbformat": 4,
 "nbformat_minor": 2
}
