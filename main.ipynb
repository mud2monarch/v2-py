{
 "cells": [
  {
   "cell_type": "code",
   "execution_count": null,
   "metadata": {},
   "outputs": [],
   "source": [
    "from datetime import datetime"
   ]
  },
  {
   "cell_type": "code",
   "execution_count": null,
   "metadata": {},
   "outputs": [],
   "source": [
    "NO_UPDATE_TX = \"No Update Transaction Provided\"\n",
    "NO_UPDATE_TIME = datetime.min"
   ]
  },
  {
   "cell_type": "code",
   "execution_count": null,
   "metadata": {},
   "outputs": [],
   "source": [
    "##### V2State class #######################################################\n",
    "\n",
    "# A V2State is an object representing a v2 pool at a specific point in time.\n",
    "# V2State are immutable.\n",
    "\n",
    "class V2State:\n",
    "    token0: str\n",
    "    token1: str\n",
    "    pool_address: str\n",
    "    reserve0: int\n",
    "    reserve1: int\n",
    "    k_last: int\n",
    "    update_tx: str\n",
    "    update_time: datetime\n",
    "\n",
    "    def __new__(cls,\n",
    "            token0: str,\n",
    "            token1: str,\n",
    "            pool_address: str,\n",
    "            reserve0: int,\n",
    "            reserve1: int,\n",
    "            k_last: int,\n",
    "            update_tx: str = NO_UPDATE_TX,\n",
    "            update_time: \n",
    "    )\n",
    "\n",
    "    \n",
    "##### CurrentV2State class #######################################################\n",
    "\n",
    "# CurrentV2State is an object representing the most \"recent\" v2 pool (i.e., with respect to the user of the API)\n",
    "# CurrentV2State are mutable.\n",
    "\n",
    "class CurrentV2State\n",
    "\n",
    "##### V2Pool class #######################################################\n",
    "\n",
    "# V2Pool is an object that stores a history of many V2State\n",
    "\n",
    "class V2Pool\n"
   ]
  }
 ],
 "metadata": {
  "kernelspec": {
   "display_name": ".venv",
   "language": "python",
   "name": "python3"
  },
  "language_info": {
   "name": "python",
   "version": "3.11.0"
  }
 },
 "nbformat": 4,
 "nbformat_minor": 2
}
